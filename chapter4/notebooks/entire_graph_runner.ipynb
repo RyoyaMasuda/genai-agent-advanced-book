{
 "cells": [
  {
   "cell_type": "code",
   "execution_count": 1,
   "metadata": {},
   "outputs": [],
   "source": [
    "from src.agent import HelpDeskAgent\n",
    "from src.configs import Settings\n",
    "from src.tools.search_xyz_manual import search_xyz_manual\n",
    "from src.tools.search_xyz_qa import (\n",
    "    search_xyz_qa,\n",
    ")"
   ]
  },
  {
   "cell_type": "code",
   "execution_count": 2,
   "metadata": {},
   "outputs": [],
   "source": [
    "settings = Settings()"
   ]
  },
  {
   "cell_type": "code",
   "execution_count": 3,
   "metadata": {},
   "outputs": [],
   "source": [
    "agent = HelpDeskAgent(\n",
    "    settings=settings,\n",
    "    tools=[search_xyz_manual, search_xyz_qa],\n",
    ")"
   ]
  },
  {
   "cell_type": "code",
   "execution_count": 4,
   "metadata": {},
   "outputs": [],
   "source": [
    "question = \"\"\"\n",
    "お世話になっております。\n",
    "\n",
    "現在、XYZシステムの利用を検討しており、以下の2点についてご教示いただければと存じます。\n",
    "\n",
    "1. パスワードに利用可能な文字の制限について\n",
    "当該システムにてパスワードを設定する際、使用可能な文字の範囲（例：英数字、記号、文字数制限など）について詳しい情報をいただけますでしょうか。安全かつシステムでの認証エラーを防ぐため、具体的な仕様を確認したいと考えております。\n",
    "\n",
    "2. 最新リリースの取得方法について\n",
    "最新のアップデート情報をどのように確認・取得できるかについてもお教えいただけますと幸いです。\n",
    "\n",
    "お忙しいところ恐縮ですが、ご対応のほどよろしくお願い申し上げます。\n",
    "\n",
    "\"\"\"\n",
    "\n",
    "question = \"\"\"\n",
    "お世話になっております。\n",
    "\n",
    "現在、XYZシステムを利用しており、以下の点についてご教示いただければと存じます。\n",
    "\n",
    "1. 特定のプロジェクトに対してのみ通知を制限する方法について\n",
    "特定のプロジェクトに対してのみ通知を制限する方法についてお教えいただけますと幸いです。\n",
    "\n",
    "2. パスワードに利用可能な文字の制限について\n",
    "当該システムにてパスワードを設定する際、使用可能な文字の範囲（例：英数字、記号、文字数制限など）について詳しい情報をいただけますでしょうか。安全かつシステムでの認証エラーを防ぐため、具体的な仕様を確認したいと考えております。\n",
    "\n",
    "お忙しいところ恐縮ですが、ご対応のほどよろしくお願い申し上げます。\n",
    "\"\"\""
   ]
  },
  {
   "cell_type": "markdown",
   "metadata": {},
   "source": [
    "## ヘルプデスクエージェント全体を実行します"
   ]
  },
  {
   "cell_type": "code",
   "execution_count": 5,
   "metadata": {},
   "outputs": [
    {
     "name": "stdout",
     "output_type": "stream",
     "text": [
      "2025-10-19 04:09:35,310 INFO 🚀 計画生成処理を開始します...\n",
      "2025-10-19 04:09:35,311 INFO OpenAIにリクエストを送信中...\n",
      "2025-10-19 04:09:36,930 INFO HTTP Request: POST https://vth-azure-openai.openai.azure.com//openai/deployments/gpt-4.1-2025-0414/chat/completions?api-version=2024-08-01-preview \"HTTP/1.1 200 OK\"\n",
      "2025-10-19 04:09:36,947 INFO ✅ OpenAIからのレスポンスを正常に受信しました\n",
      "2025-10-19 04:09:36,948 INFO 計画生成が完了しました！\n",
      "2025-10-19 04:09:36,966 INFO 🚀 ツール選択処理を開始します...\n",
      "2025-10-19 04:09:36,967 INFO 🚀 ツール選択処理を開始します...\n",
      "2025-10-19 04:09:37,130 INFO OpenAIにリクエストを送信中...\n",
      "2025-10-19 04:09:37,133 INFO OpenAIにリクエストを送信中...\n",
      "2025-10-19 04:09:37,696 INFO HTTP Request: POST https://vth-azure-openai.openai.azure.com//openai/deployments/gpt-4.1-2025-0414/chat/completions?api-version=2024-08-01-preview \"HTTP/1.1 200 OK\"\n",
      "2025-10-19 04:09:37,700 INFO ✅ OpenAIからのレスポンスを正常に受信しました\n",
      "2025-10-19 04:09:37,702 INFO ツール選択が完了しました！\n",
      "2025-10-19 04:09:37,705 INFO 🚀 ツール実行処理を開始します...\n",
      "2025-10-19 04:09:37,707 INFO キーワードでXYZマニュアルを検索中: {\"keywords\":\"パスワード 設定 文字種 文字数制限\"}\n",
      "2025-10-19 04:09:37,931 INFO POST http://localhost:9200/documents/_search [status:200 duration:0.222s]\n",
      "2025-10-19 04:09:37,931 INFO 検索結果: 10 件のヒット\n",
      "2025-10-19 04:09:37,932 INFO キーワードによるXYZマニュアル検索が完了しました\n",
      "2025-10-19 04:09:37,932 INFO ツール実行が完了しました！\n",
      "2025-10-19 04:09:37,936 INFO 🚀 サブタスク回答作成処理を開始します...\n",
      "2025-10-19 04:09:37,936 INFO OpenAIにリクエストを送信中...\n",
      "2025-10-19 04:09:38,013 INFO HTTP Request: POST https://vth-azure-openai.openai.azure.com//openai/deployments/gpt-4.1-2025-0414/chat/completions?api-version=2024-08-01-preview \"HTTP/1.1 200 OK\"\n",
      "2025-10-19 04:09:38,014 INFO ✅ OpenAIからのレスポンスを正常に受信しました\n",
      "2025-10-19 04:09:38,015 INFO ツール選択が完了しました！\n",
      "2025-10-19 04:09:38,017 INFO 🚀 ツール実行処理を開始します...\n",
      "2025-10-19 04:09:38,018 INFO キーワードでXYZマニュアルを検索中: {\"keywords\":\"特定のプロジェクト 通知 制限 設定方法\"}\n",
      "2025-10-19 04:09:38,035 INFO POST http://localhost:9200/documents/_search [status:200 duration:0.016s]\n",
      "2025-10-19 04:09:38,035 INFO 検索結果: 10 件のヒット\n",
      "2025-10-19 04:09:38,036 INFO キーワードによるXYZマニュアル検索が完了しました\n",
      "2025-10-19 04:09:38,036 INFO ツール実行が完了しました！\n",
      "2025-10-19 04:09:38,038 INFO 🚀 サブタスク回答作成処理を開始します...\n",
      "2025-10-19 04:09:38,038 INFO OpenAIにリクエストを送信中...\n",
      "2025-10-19 04:09:39,542 INFO HTTP Request: POST https://vth-azure-openai.openai.azure.com//openai/deployments/gpt-4.1-2025-0414/chat/completions?api-version=2024-08-01-preview \"HTTP/1.1 200 OK\"\n",
      "2025-10-19 04:09:39,543 INFO ✅ OpenAIからのレスポンスを正常に受信しました\n",
      "2025-10-19 04:09:39,543 INFO サブタスク回答作成が完了しました！\n",
      "2025-10-19 04:09:39,545 INFO 🚀 内省処理を開始します...\n",
      "2025-10-19 04:09:39,545 INFO OpenAIにリクエストを送信中...\n",
      "2025-10-19 04:09:40,463 INFO HTTP Request: POST https://vth-azure-openai.openai.azure.com//openai/deployments/gpt-4.1-2025-0414/chat/completions?api-version=2024-08-01-preview \"HTTP/1.1 200 OK\"\n",
      "2025-10-19 04:09:40,465 INFO ✅ OpenAIからのレスポンスを正常に受信しました\n",
      "2025-10-19 04:09:40,465 INFO サブタスク回答作成が完了しました！\n",
      "2025-10-19 04:09:40,467 INFO 🚀 内省処理を開始します...\n",
      "2025-10-19 04:09:40,467 INFO OpenAIにリクエストを送信中...\n",
      "2025-10-19 04:09:40,978 INFO HTTP Request: POST https://vth-azure-openai.openai.azure.com//openai/deployments/gpt-4.1-2025-0414/chat/completions?api-version=2024-08-01-preview \"HTTP/1.1 200 OK\"\n",
      "2025-10-19 04:09:40,982 INFO ✅ OpenAIからのレスポンスを正常に受信しました\n",
      "2025-10-19 04:09:40,982 INFO 内省が完了しました！\n",
      "2025-10-19 04:09:42,008 INFO HTTP Request: POST https://vth-azure-openai.openai.azure.com//openai/deployments/gpt-4.1-2025-0414/chat/completions?api-version=2024-08-01-preview \"HTTP/1.1 200 OK\"\n",
      "2025-10-19 04:09:42,011 INFO ✅ OpenAIからのレスポンスを正常に受信しました\n",
      "2025-10-19 04:09:42,016 INFO 内省が完了しました！\n",
      "2025-10-19 04:09:42,026 INFO 🚀 最終回答作成処理を開始します...\n",
      "2025-10-19 04:09:42,027 INFO OpenAIにリクエストを送信中...\n",
      "2025-10-19 04:09:44,044 INFO HTTP Request: POST https://vth-azure-openai.openai.azure.com//openai/deployments/gpt-4.1-2025-0414/chat/completions?api-version=2024-08-01-preview \"HTTP/1.1 200 OK\"\n",
      "2025-10-19 04:09:44,045 INFO ✅ OpenAIからのレスポンスを正常に受信しました\n",
      "2025-10-19 04:09:44,046 INFO 最終回答作成が完了しました！\n"
     ]
    }
   ],
   "source": [
    "result = agent.run_agent(question)"
   ]
  },
  {
   "cell_type": "code",
   "execution_count": 6,
   "metadata": {},
   "outputs": [
    {
     "name": "stdout",
     "output_type": "stream",
     "text": [
      "お世話になっております。ご質問ありがとうございます。\n",
      "\n",
      "1. 特定のプロジェクトに対してのみ通知を制限する方法について  \n",
      "XYZシステムでは、プロジェクトごとに通知設定を変更することが可能です。管理者やプロジェクトマネージャーが、各プロジェクト単位で通知の有効・無効や通知チャネル（メール、SMSなど）を設定できる機能がございます。具体的な設定手順につきましては、「XYZシステム統合ユーザーマニュアル.pdf」の「バックアップ監視と通知設定手順」セクションに記載されていますので、そちらをご参照いただくことで詳細な操作方法をご確認いただけます。\n",
      "\n",
      "2. パスワードに利用可能な文字の制限について  \n",
      "XYZシステムのパスワード設定に関する仕様は以下の通りです。\n",
      "- パスワードは最低8文字以上である必要があります。\n",
      "- 大文字と小文字の両方を含める必要があります。\n",
      "- 少なくとも1つの数字を含める必要があります。\n",
      "- 少なくとも1つの特殊文字（例：!@#$%^&* など）を含める必要があります。\n",
      "\n",
      "上記の条件を満たすことで、認証エラーを防ぎ、安全にご利用いただけます。\n",
      "\n",
      "ご不明点がございましたら、引き続きご質問ください。よろしくお願いいたします。\n"
     ]
    }
   ],
   "source": [
    "# 回答\n",
    "print(result.answer)"
   ]
  },
  {
   "cell_type": "code",
   "execution_count": null,
   "metadata": {},
   "outputs": [],
   "source": []
  }
 ],
 "metadata": {
  "kernelspec": {
   "display_name": ".venv",
   "language": "python",
   "name": "python3"
  },
  "language_info": {
   "codemirror_mode": {
    "name": "ipython",
    "version": 3
   },
   "file_extension": ".py",
   "mimetype": "text/x-python",
   "name": "python",
   "nbconvert_exporter": "python",
   "pygments_lexer": "ipython3",
   "version": "3.12.9"
  }
 },
 "nbformat": 4,
 "nbformat_minor": 2
}
